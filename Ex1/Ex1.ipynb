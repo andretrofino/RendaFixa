{
 "cells": [
  {
   "cell_type": "code",
   "execution_count": 31,
   "metadata": {
    "collapsed": true
   },
   "outputs": [],
   "source": [
    "import math\n",
    "import sys\n",
    "\n",
    "import numpy as np\n",
    "\n",
    "sys.path.append(f'../../FinanceHub')\n",
    "\n",
    "from calendars import DayCounts\n",
    "import pandas as pd\n",
    "import matplotlib.pyplot as plt\n",
    "import math\n",
    "import numpy as np\n",
    "\n",
    "dc = DayCounts('BUS/252', calendar='anbima')\n",
    "today = pd.to_datetime('2021-04-26')\n",
    "\n",
    "def forward_rate(i1, i2, n1, n2):\n",
    "    t2 = (1 + i2)**(n2/252)\n",
    "    t1 = (1 + i1)**(n1/252)\n",
    "    return (t2/t1)**(252/(n2-n1)) - 1"
   ]
  },
  {
   "cell_type": "code",
   "execution_count": 32,
   "outputs": [],
   "source": [
    "contratos_di = pd.read_excel('DI_26042021.xlsx')\n",
    "contratos_di[\"Vencimento BU\"] = dc.following(pd.to_datetime(contratos_di[\"Data Vencimento\"]))\n",
    "contratos_di[\"DU\"] = dc.days(today, contratos_di[\"Vencimento BU\"])\n",
    "contratos_di[\"Spot\"] = (100000/contratos_di[\"Preço de ajuste Atual\"])**(252/contratos_di[\"DU\"]) - 1"
   ],
   "metadata": {
    "collapsed": false,
    "pycharm": {
     "name": "#%%\n"
    }
   }
  },
  {
   "cell_type": "code",
   "execution_count": 54,
   "outputs": [
    {
     "name": "stdout",
     "output_type": "stream",
     "text": [
      "0.021727107362697007\n",
      "Vencimento                                           V25\n",
      "Preço de ajuste anterior                           71050\n",
      "Preço de ajuste Atual                            71084.8\n",
      "Variação                                           34.77\n",
      "Valor do ajuste por contrato (R$)                  34.77\n",
      "Data Vencimento                      2025-10-01 00:00:00\n",
      "Vencimento BU                        2025-10-01 00:00:00\n",
      "DU                                                  1117\n",
      "Spot                                             0.08004\n",
      "Forward                                         0.101767\n",
      "Carry                                          0.0217271\n",
      "DV01                                             34.0306\n",
      "Carry_DV01                                   0.000638459\n",
      "Name: 25, dtype: object\n"
     ]
    }
   ],
   "source": [
    "contratos_di[\"Forward\"] = np.zeros(len(contratos_di))\n",
    "\n",
    "for i in range(3,12):\n",
    "    contratos_di.loc[i,\"Forward\"] = forward_rate(\n",
    "        contratos_di.loc[i-3][\"Spot\"],\n",
    "        contratos_di.loc[i][\"Spot\"],\n",
    "        contratos_di.loc[i-3][\"DU\"],\n",
    "        contratos_di.loc[i][\"DU\"]\n",
    "    )\n",
    "\n",
    "for i in range(12, 29):\n",
    "    contratos_di.loc[i,\"Forward\"] = forward_rate(\n",
    "        contratos_di.loc[i-1][\"Spot\"],\n",
    "        contratos_di.loc[i][\"Spot\"],\n",
    "        contratos_di.loc[i-1][\"DU\"],\n",
    "        contratos_di.loc[i][\"DU\"]\n",
    "    )\n",
    "\n",
    "contratos_di[\"Carry\"] = contratos_di[\"Forward\"] - contratos_di[\"Spot\"]\n",
    "print(contratos_di[\"Carry\"].max())\n",
    "\n",
    "carry_max = contratos_di[\"Carry\"].idxmax()\n",
    "print(contratos_di.loc[carry_max])"
   ],
   "metadata": {
    "collapsed": false,
    "pycharm": {
     "name": "#%%\n"
    }
   }
  },
  {
   "cell_type": "code",
   "execution_count": 55,
   "outputs": [
    {
     "name": "stdout",
     "output_type": "stream",
     "text": [
      "Vencimento                                           J22\n",
      "Preço de ajuste anterior                         95446.4\n",
      "Preço de ajuste Atual                            95446.7\n",
      "Variação                                            0.28\n",
      "Valor do ajuste por contrato (R$)                   0.28\n",
      "Data Vencimento                      2022-04-01 00:00:00\n",
      "Vencimento BU                        2022-04-01 00:00:00\n",
      "DU                                                   237\n",
      "Spot                                           0.0508001\n",
      "Forward                                        0.0636067\n",
      "Carry                                          0.0128066\n",
      "DV01                                             9.43254\n",
      "Carry_DV01                                    0.00135771\n",
      "Name: 11, dtype: object\n"
     ]
    }
   ],
   "source": [
    "contratos_di[\"DV01\"] = ((contratos_di[\"DU\"]*(1+contratos_di[\"Spot\"]))/252)*contratos_di[\"Preço de ajuste Atual\"]*0.0001\n",
    "contratos_di[\"Carry_DV01\"] = contratos_di[\"Carry\"]/contratos_di[\"DV01\"]\n",
    "dv01_max = contratos_di[\"Carry_DV01\"].idxmax()\n",
    "print(contratos_di.loc[dv01_max])"
   ],
   "metadata": {
    "collapsed": false,
    "pycharm": {
     "name": "#%%\n"
    }
   }
  },
  {
   "cell_type": "code",
   "execution_count": 71,
   "outputs": [
    {
     "name": "stdout",
     "output_type": "stream",
     "text": [
      "Vencimento                                           F26\n",
      "Preço de ajuste anterior                         69594.2\n",
      "Preço de ajuste Atual                            69638.5\n",
      "Variação                                           44.34\n",
      "Valor do ajuste por contrato (R$)                  44.34\n",
      "Data Vencimento                      2026-01-01 00:00:00\n",
      "Vencimento BU                        2026-01-02 00:00:00\n",
      "DU                                                  1182\n",
      "Spot                                              0.0802\n",
      "Forward                                        0.0829531\n",
      "Carry                                          0.0027531\n",
      "DV01                                             35.2834\n",
      "Carry_DV01                                   7.80282e-05\n",
      "Name: 26, dtype: object\n",
      "Flattner carry:  0.12796774363746521 %\n"
     ]
    }
   ],
   "source": [
    "dv01_min = contratos_di[contratos_di[\"Carry_DV01\"] > 0][\"Carry_DV01\"].idxmin()\n",
    "print(contratos_di.iloc[dv01_min])\n",
    "flattner_carry = contratos_di.loc[dv01_max][\"Carry_DV01\"] - contratos_di.iloc[dv01_min][\"Carry_DV01\"]\n",
    "print(\"Flattner carry: \", flattner_carry*100, \"%\")\n"
   ],
   "metadata": {
    "collapsed": false,
    "pycharm": {
     "name": "#%%\n"
    }
   }
  }
 ],
 "metadata": {
  "kernelspec": {
   "display_name": "Python 3",
   "language": "python",
   "name": "python3"
  },
  "language_info": {
   "codemirror_mode": {
    "name": "ipython",
    "version": 2
   },
   "file_extension": ".py",
   "mimetype": "text/x-python",
   "name": "python",
   "nbconvert_exporter": "python",
   "pygments_lexer": "ipython2",
   "version": "2.7.6"
  }
 },
 "nbformat": 4,
 "nbformat_minor": 0
}