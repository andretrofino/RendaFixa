{
 "cells": [
  {
   "cell_type": "markdown",
   "metadata": {
    "collapsed": true,
    "pycharm": {
     "name": "#%% md\n"
    }
   },
   "source": [
    "# Exercise List 2"
   ]
  },
  {
   "cell_type": "markdown",
   "metadata": {},
   "source": [
    "## Exercise 1"
   ]
  },
  {
   "cell_type": "markdown",
   "metadata": {},
   "source": [
    "Dependencies"
   ]
  },
  {
   "cell_type": "code",
   "execution_count": 15,
   "metadata": {
    "pycharm": {
     "name": "#%%\n"
    }
   },
   "outputs": [],
   "source": [
    "import sys\n",
    "from pandas import DateOffset\n",
    "sys.path.append(f'../FinanceHub')\n",
    "\n",
    "from calendars import DayCounts\n",
    "import pandas as pd"
   ]
  },
  {
   "cell_type": "code",
   "execution_count": 16,
   "metadata": {
    "pycharm": {
     "name": "#%%\n"
    }
   },
   "outputs": [
    {
     "data": {
      "text/plain": "  Payout Dates\n0   2021-07-01\n1   2022-01-03\n2   2022-07-01\n3   2023-01-02",
      "text/html": "<div>\n<style scoped>\n    .dataframe tbody tr th:only-of-type {\n        vertical-align: middle;\n    }\n\n    .dataframe tbody tr th {\n        vertical-align: top;\n    }\n\n    .dataframe thead th {\n        text-align: right;\n    }\n</style>\n<table border=\"1\" class=\"dataframe\">\n  <thead>\n    <tr style=\"text-align: right;\">\n      <th></th>\n      <th>Payout Dates</th>\n    </tr>\n  </thead>\n  <tbody>\n    <tr>\n      <th>0</th>\n      <td>2021-07-01</td>\n    </tr>\n    <tr>\n      <th>1</th>\n      <td>2022-01-03</td>\n    </tr>\n    <tr>\n      <th>2</th>\n      <td>2022-07-01</td>\n    </tr>\n    <tr>\n      <th>3</th>\n      <td>2023-01-02</td>\n    </tr>\n  </tbody>\n</table>\n</div>"
     },
     "execution_count": 16,
     "metadata": {},
     "output_type": "execute_result"
    }
   ],
   "source": [
    "starting_date = '2021-02-05'\n",
    "\n",
    "# inputs: string in format yyyy-mm-dd\n",
    "def payout_dates(reference_date, expiry_date):\n",
    "    dc = DayCounts('BUS/252', calendar='anbima')\n",
    "\n",
    "    t = dc.following(pd.to_datetime(reference_date))\n",
    "    T = dc.following(pd.to_datetime(expiry_date))\n",
    "\n",
    "    d_years = 2 * (T.year - t.year) - 1\n",
    "\n",
    "    first_day = pd.to_datetime(f\"{t.year}-01-01\")\n",
    "    second_day = pd.to_datetime(f\"{t.year}-07-01\")\n",
    "    if t != first_day:\n",
    "        if t > second_day:\n",
    "            d_years -= 1\n",
    "            starting_day = pd.to_datetime(f\"{t.year+1}-01-01\")\n",
    "        else:\n",
    "            starting_day = second_day\n",
    "    else:\n",
    "        starting_day = first_day\n",
    "\n",
    "    output = [dc.following(starting_day)]\n",
    "\n",
    "    for i in range(0, d_years-1):\n",
    "        if output[i].month == 1:\n",
    "            output.append(\n",
    "                dc.following(pd.to_datetime(f\"{output[i].year}-07-01\"))\n",
    "            )\n",
    "        else:\n",
    "            output.append(\n",
    "                dc.following(pd.to_datetime(f\"{output[i].year+1}-01-01\"))\n",
    "            )\n",
    "\n",
    "    output.append(dc.following(pd.to_datetime(expiry_date)))\n",
    "\n",
    "    return output\n",
    "\n",
    "payout = payout_dates('2021-02-05', '2023-01-01')\n",
    "payout_df = pd.DataFrame(payout, columns=[\"Payout Dates\"])\n",
    "payout_df"
   ]
  },
  {
   "cell_type": "markdown",
   "metadata": {},
   "source": [
    "## Exercise 2"
   ]
  },
  {
   "cell_type": "code",
   "execution_count": 17,
   "metadata": {
    "pycharm": {
     "name": "#%%\n"
    }
   },
   "outputs": [
    {
     "data": {
      "text/plain": "            PU\n0  1094.209742\n1  1134.782973\n2  1154.793262\n3  1164.388256\n4  1167.734555",
      "text/html": "<div>\n<style scoped>\n    .dataframe tbody tr th:only-of-type {\n        vertical-align: middle;\n    }\n\n    .dataframe tbody tr th {\n        vertical-align: top;\n    }\n\n    .dataframe thead th {\n        text-align: right;\n    }\n</style>\n<table border=\"1\" class=\"dataframe\">\n  <thead>\n    <tr style=\"text-align: right;\">\n      <th></th>\n      <th>PU</th>\n    </tr>\n  </thead>\n  <tbody>\n    <tr>\n      <th>0</th>\n      <td>1094.209742</td>\n    </tr>\n    <tr>\n      <th>1</th>\n      <td>1134.782973</td>\n    </tr>\n    <tr>\n      <th>2</th>\n      <td>1154.793262</td>\n    </tr>\n    <tr>\n      <th>3</th>\n      <td>1164.388256</td>\n    </tr>\n    <tr>\n      <th>4</th>\n      <td>1167.734555</td>\n    </tr>\n  </tbody>\n</table>\n</div>"
     },
     "execution_count": 17,
     "metadata": {},
     "output_type": "execute_result"
    }
   ],
   "source": [
    "default_coupon = 0.1\n",
    "\n",
    "def calc_pu(reference_date, expiry_date, yield_rate, coupon=default_coupon, face_value=1000):\n",
    "    dc = DayCounts('BUS/252', calendar='anbima')\n",
    "    payout_days = payout_dates(reference_date, expiry_date)\n",
    "\n",
    "    t = dc.following(pd.to_datetime(reference_date))\n",
    "    du = dc.days(t, payout[0])\n",
    "\n",
    "    c = (1 + coupon)**0.5 - 1\n",
    "    y = (1 + yield_rate)\n",
    "    pu = c/(y**(du/252))\n",
    "    for i in range(1, len(payout_days)):\n",
    "        du += dc.days(payout_days[i-1], payout_days[i])\n",
    "        pu += c/(y**(du/252))\n",
    "\n",
    "    pu += 1/(y**(du/252))\n",
    "\n",
    "    return face_value*pu\n",
    "\n",
    "yields = [0.051132,0.062152,0.068692,0.073165,0.076390]\n",
    "expiry_dates = [\n",
    "    '2023-01-01',\n",
    "    '2025-01-01',\n",
    "    '2027-01-01',\n",
    "    '2029-01-01',\n",
    "    '2031-01-01'\n",
    "]\n",
    "\n",
    "prices = []\n",
    "for yf, exp in zip(yields, expiry_dates):\n",
    "    prices.append(calc_pu(starting_date, exp, yf))\n",
    "\n",
    "prices_df = pd.DataFrame(prices, columns=[\"PU\"])\n",
    "prices_df"
   ]
  },
  {
   "cell_type": "markdown",
   "metadata": {},
   "source": [
    "## Exercise 3"
   ]
  },
  {
   "cell_type": "code",
   "execution_count": 18,
   "metadata": {},
   "outputs": [
    {
     "data": {
      "text/plain": "   Yield Rate\n0    0.051132\n1    0.062152\n2    0.068692\n3    0.073165\n4    0.076390",
      "text/html": "<div>\n<style scoped>\n    .dataframe tbody tr th:only-of-type {\n        vertical-align: middle;\n    }\n\n    .dataframe tbody tr th {\n        vertical-align: top;\n    }\n\n    .dataframe thead th {\n        text-align: right;\n    }\n</style>\n<table border=\"1\" class=\"dataframe\">\n  <thead>\n    <tr style=\"text-align: right;\">\n      <th></th>\n      <th>Yield Rate</th>\n    </tr>\n  </thead>\n  <tbody>\n    <tr>\n      <th>0</th>\n      <td>0.051132</td>\n    </tr>\n    <tr>\n      <th>1</th>\n      <td>0.062152</td>\n    </tr>\n    <tr>\n      <th>2</th>\n      <td>0.068692</td>\n    </tr>\n    <tr>\n      <th>3</th>\n      <td>0.073165</td>\n    </tr>\n    <tr>\n      <th>4</th>\n      <td>0.076390</td>\n    </tr>\n  </tbody>\n</table>\n</div>"
     },
     "execution_count": 18,
     "metadata": {},
     "output_type": "execute_result"
    }
   ],
   "source": [
    "def calc_yield(reference_date, expiry_date, price, coupon=default_coupon, face_value=1000, estimate=0.05):\n",
    "    import scipy\n",
    "    from scipy import optimize\n",
    "    get_yield = lambda yield_rate: calc_pu(reference_date, expiry_date, yield_rate) - price\n",
    "    return optimize.newton(get_yield, estimate)\n",
    "\n",
    "prices = [ 1094.209749, 1134.782985, 1154.793279, 1164.388278, 1167.734580 ]\n",
    "\n",
    "yield_rates = []\n",
    "for pu, exp in zip(prices, expiry_dates):\n",
    "    yield_rates.append(calc_yield(starting_date, exp, pu))\n",
    "\n",
    "yields_df = pd.DataFrame(yield_rates, columns=[\"Yield Rate\"])\n",
    "yields_df"
   ]
  }
 ],
 "metadata": {
  "kernelspec": {
   "name": "python3",
   "language": "python",
   "display_name": "Python 3"
  },
  "language_info": {
   "codemirror_mode": {
    "name": "ipython",
    "version": 3
   },
   "file_extension": ".py",
   "mimetype": "text/x-python",
   "name": "python",
   "nbconvert_exporter": "python",
   "pygments_lexer": "ipython3",
   "version": "3.8.3"
  }
 },
 "nbformat": 4,
 "nbformat_minor": 1
}