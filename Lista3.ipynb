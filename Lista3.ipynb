{
 "cells": [
  {
   "cell_type": "markdown",
   "metadata": {},
   "source": [
    "# Lista 3"
   ]
  },
  {
   "cell_type": "code",
   "execution_count": 70,
   "metadata": {
    "pycharm": {
     "name": "#%%\n"
    }
   },
   "outputs": [],
   "source": [
    "import sys\n",
    "sys.path.append(f'../FinanceHub')\n",
    "\n",
    "from calendars import DayCounts\n",
    "import pandas as pd\n",
    "import matplotlib.pyplot as plt"
   ]
  },
  {
   "cell_type": "markdown",
   "metadata": {},
   "source": [
    "## Exercise 1"
   ]
  },
  {
   "cell_type": "markdown",
   "metadata": {},
   "source": [
    "### Flat Forward Interpolation"
   ]
  },
  {
   "cell_type": "code",
   "execution_count": 71,
   "metadata": {
    "pycharm": {
     "name": "#%%\n"
    }
   },
   "outputs": [],
   "source": [
    "def flat_forward(du, yields):\n",
    "    points = []\n",
    "    for i in range(1, len(du)):\n",
    "        T1 = du[i-1]\n",
    "        T2 = du[i]\n",
    "        R1 = yields[i-1]\n",
    "        R2 = yields[i]\n",
    "\n",
    "        points.append([T1, R1])\n",
    "        points.append([T2, R2])\n",
    "\n",
    "        for T in range(T1+1, T2):\n",
    "            r = (R2**((T-T1)/(T2 - T1)))*(R1**((T2-T)/(T2-T1)))\n",
    "            points.append([T, r])\n",
    "    return points"
   ]
  },
  {
   "cell_type": "code",
   "execution_count": 72,
   "metadata": {
    "pycharm": {
     "name": "#%%\n"
    }
   },
   "outputs": [],
   "source": [
    "def calc_du(reference_date, expiry_dates):\n",
    "    t = pd.to_datetime(reference_date)\n",
    "    dc = DayCounts('BUS/252', calendar='anbima')\n",
    "    du = []\n",
    "    for date in expiry_dates:\n",
    "        T = pd.to_datetime(date)\n",
    "        du.append(dc.days(t, T))\n",
    "    return du"
   ]
  },
  {
   "cell_type": "markdown",
   "metadata": {},
   "source": [
    "### LTN Yield curve"
   ]
  },
  {
   "cell_type": "code",
   "execution_count": 73,
   "metadata": {
    "pycharm": {
     "name": "#%%\n"
    }
   },
   "outputs": [],
   "source": [
    "starting_date = '2021-02-05'\n",
    "LTN_expiry_dates = ['2021-04-01', '2021-07-01', '2021-10-01', '2022-01-01',\n",
    "                    '2022-04-01', '2022-07-01', '2022-10-01', '2023-01-01',\n",
    "                    '2023-07-01', '2024-01-01', '2024-07-01']\n",
    "LTN_yield_rates = [\n",
    "     0.0205800, 0.0238850, 0.0299040, 0.0344630, 0.0401480,\n",
    "     0.0448470, 0.0491370, 0.0525000, 0.0575190, 0.0611500, 0.0642470\n",
    "]\n",
    "\n",
    "LTN_du = calc_du(starting_date, LTN_expiry_dates)"
   ]
  },
  {
   "cell_type": "code",
   "execution_count": 74,
   "metadata": {
    "pycharm": {
     "name": "#%%\n"
    }
   },
   "outputs": [
    {
     "data": {
      "image/png": "[encoded data removed]",
      "text/plain": [
       "<Figure size 432x288 with 1 Axes>"
      ]
     },
     "metadata": {
      "needs_background": "light"
     },
     "output_type": "display_data"
    }
   ],
   "source": [
    "LTN_forward_rate = flat_forward(LTN_du, LTN_yield_rates)\n",
    "LTN_pd_forward_rate = pd.DataFrame(LTN_forward_rate, columns=[\"DU\", \"LTN_Yield\"])\n",
    "LTN_pd_forward_rate.plot(x=\"DU\", y=\"LTN_Yield\")\n",
    "plt.show()"
   ]
  },
  {
   "cell_type": "markdown",
   "metadata": {
    "pycharm": {
     "name": "#%% md\n"
    }
   },
   "source": [
    "### NTNF Yield curve"
   ]
  },
  {
   "cell_type": "code",
   "execution_count": 75,
   "metadata": {
    "pycharm": {
     "name": "#%%\n"
    }
   },
   "outputs": [],
   "source": [
    "NTNF_yield_rates = [0.051132,0.062152,0.068692,0.073165,0.076390]\n",
    "NTNF_expiry_dates = [\n",
    "    '2023-01-01',\n",
    "    '2025-01-01',\n",
    "    '2027-01-01',\n",
    "    '2029-01-01',\n",
    "    '2031-01-01'\n",
    "]\n",
    "\n",
    "NTNF_du = calc_du(starting_date, NTNF_expiry_dates)"
   ]
  },
  {
   "cell_type": "code",
   "execution_count": 76,
   "metadata": {
    "pycharm": {
     "name": "#%%\n"
    }
   },
   "outputs": [
    {
     "data": {
      "image/png": "[encoded data removed]",
      "text/plain": [
       "<Figure size 432x288 with 1 Axes>"
      ]
     },
     "metadata": {
      "needs_background": "light"
     },
     "output_type": "display_data"
    }
   ],
   "source": [
    "NTNF_forward_rate = flat_forward(NTNF_du, NTNF_yield_rates)\n",
    "NTNF_pd_forward_rate = pd.DataFrame(NTNF_forward_rate, columns=[\"DU\", \"NTNF_Yield\"])\n",
    "NTNF_pd_forward_rate.plot(x=\"DU\", y=\"NTNF_Yield\")\n",
    "plt.show()"
   ]
  },
  {
   "cell_type": "markdown",
   "metadata": {},
   "source": [
    "## Exercise 2"
   ]
  },
  {
   "cell_type": "code",
   "execution_count": 83,
   "metadata": {
    "pycharm": {
     "name": "#%%\n"
    }
   },
   "outputs": [
    {
     "name": "stdout",
     "output_type": "stream",
     "text": [
      "NelsonSiegelSvenssonCurve(beta0=0.04563985284374065, beta1=-0.02470845206044551, beta2=0.11571060645597667, beta3=-0.028498897811440105, tau1=2.2648, tau2=0.333)\n"
     ]
    }
   ],
   "source": [
    "from nelson_siegel_svensson.calibrate import calibrate_nss_ols\n",
    "import numpy as np\n",
    "\n",
    "sigma1 = 2.2648\n",
    "sigma2 = 0.3330\n",
    "\n",
    "years = [d/252 for d in LTN_du]\n",
    "\n",
    "curve, status = calibrate_nss_ols(np.array(years), np.array(LTN_yield_rates), (sigma1, sigma2))\n",
    "print(curve)"
   ]
  },
  {
   "cell_type": "markdown",
   "metadata": {},
   "source": [
    "## Exercise 3"
   ]
  },
  {
   "cell_type": "markdown",
   "metadata": {
    "pycharm": {
     "name": "#%% md\n"
    }
   },
   "source": [
    "### DI"
   ]
  },
  {
   "cell_type": "code",
   "execution_count": 77,
   "metadata": {
    "pycharm": {
     "name": "#%%\n"
    }
   },
   "outputs": [
    {
     "data": {
      "image/png": "[encoded data removed]",
      "text/plain": [
       "<Figure size 432x288 with 1 Axes>"
      ]
     },
     "metadata": {
      "needs_background": "light"
     },
     "output_type": "display_data"
    }
   ],
   "source": [
    "DI_yield_rates = [0.01902,0.0198,0.02051,0.0219,0.0236,0.02548,\n",
    "                  0.02742,0.02895,0.03047,0.03221,0.0342,0.03586,\n",
    "                  0.0391, 0.04325, 0.0471, 0.0498, 0.05385, 0.0549,\n",
    "                  0.0572, 0.0582, 0.0597, 0.0611, 0.06221, 0.0631,\n",
    "                  0.06457, 0.06547, 0.06643, 0.0669, 0.06837, 0.0698,\n",
    "                  0.0721, 0.0742, 0.07603, 0.0776, 0.07952, 0.08091, 0.08091]\n",
    "\n",
    "DI_dates = [\n",
    "    '2021-03-01', '2021-04-01', '2021-05-01', '2021-06-01', '2021-07-01',\n",
    "    '2021-08-01', '2021-09-01', '2021-10-01', '2021-11-01', '2021-12-01',\n",
    "    '2022-01-01', '2022-02-01', '2022-04-01',\n",
    "    '2022-07-01', '2022-10-01', '2023-01-01', '2023-04-01', '2023-07-01',\n",
    "    '2023-10-01', '2024-01-01', '2024-07-01', '2024-10-01', '2025-01-01',\n",
    "    '2025-04-01', '2025-07-01', '2025-10-01',\n",
    "    '2026-01-01', '2026-07-01', '2027-01-01', '2028-04-01', '2029-01-01',\n",
    "    '2030-01-01', '2031-01-01', '2033-01-01', '2035-01-01', '2036-01-01',\n",
    "]\n",
    "\n",
    "DI_du = calc_du(starting_date, DI_dates)\n",
    "DI_forward_rate = flat_forward(DI_du, DI_yield_rates)\n",
    "DI_pd_forward_rate = pd.DataFrame(DI_forward_rate, columns=[\"DU\", \"DI_Yield\"])\n",
    "DI_pd_forward_rate.plot(x=\"DU\", y=\"DI_Yield\")\n",
    "plt.show()"
   ]
  },
  {
   "cell_type": "code",
   "execution_count": 78,
   "metadata": {
    "pycharm": {
     "name": "#%%\n"
    }
   },
   "outputs": [
    {
     "data": {
      "image/png": "[encoded data removed]",
      "text/plain": [
       "<Figure size 432x288 with 1 Axes>"
      ]
     },
     "metadata": {
      "needs_background": "light"
     },
     "output_type": "display_data"
    }
   ],
   "source": [
    "di_plot = DI_pd_forward_rate.plot(x=\"DU\", y=\"DI_Yield\")\n",
    "ntnf_plot = NTNF_pd_forward_rate.plot(x=\"DU\", y=\"NTNF_Yield\", ax=di_plot)\n",
    "ltn_plot = LTN_pd_forward_rate.plot(x=\"DU\", y=\"LTN_Yield\", ax=ntnf_plot)\n",
    "\n"
   ]
  },
  {
   "cell_type": "markdown",
   "metadata": {},
   "source": [
    "Observando a curva acima, podemos ver que há uma possibilidade de arbitragem começando com o primeiro vencimento da NTNF (inicio da curva laranja) com a curva da LTN.\n",
    "É possível vender a NTNF com vencimento em 2025, e usar o dinheiro para comprar a LTN com vencimento em 2024. Como a LTN tem um yield maior que a NTNF no vencimento, o valor recebido no vencimento pela LTN é maior que o valor que deve-se pagar pela NTNF vendida, gerando assim um rendimento."
   ]
  },
  {
   "cell_type": "code",
   "execution_count": null,
   "metadata": {},
   "outputs": [],
   "source": [
    "starting_date = '2023-01-01'\n",
    "ending_date = '2024-07-01'\n",
    "notional = 1000\n",
    "dc = DayCounts('BUS/252', calendar='anbima')\n",
    "du = dc.days(starting_date, ending_date)\n"
   ]
  }
 ],
 "metadata": {
  "kernelspec": {
   "display_name": "Python 3",
   "language": "python",
   "name": "python3"
  },
  "language_info": {
   "codemirror_mode": {
    "name": "ipython",
    "version": 3
   },
   "file_extension": ".py",
   "mimetype": "text/x-python",
   "name": "python",
   "nbconvert_exporter": "python",
   "pygments_lexer": "ipython3",
   "version": "3.8.3"
  }
 },
 "nbformat": 4,
 "nbformat_minor": 1
}