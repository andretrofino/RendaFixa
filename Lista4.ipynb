{
 "cells": [
  {
   "cell_type": "markdown",
   "metadata": {
    "collapsed": true,
    "pycharm": {
     "name": "#%% md\n"
    }
   },
   "source": [
    "# Lista 3"
   ]
  },
  {
   "cell_type": "markdown",
   "metadata": {},
   "source": [
    "### Exercicio 1"
   ]
  },
  {
   "cell_type": "code",
   "execution_count": 88,
   "metadata": {
    "pycharm": {
     "name": "#%%\n"
    }
   },
   "outputs": [],
   "source": [
    "# Imports\n",
    "import sys\n",
    "\n",
    "from scipy.optimize import minimize\n",
    "\n",
    "sys.path.append(f'../FinanceHub')\n",
    "\n",
    "from calendars import DayCounts\n",
    "import pandas as pd\n",
    "import matplotlib.pyplot as plt\n",
    "import numpy as np"
   ]
  },
  {
   "cell_type": "code",
   "execution_count": 89,
   "metadata": {
    "pycharm": {
     "name": "#%%\n"
    }
   },
   "outputs": [],
   "source": [
    "# Functions related to DI\n",
    "def calc_du(reference_date, expiry_date):\n",
    "    t = pd.to_datetime(reference_date)\n",
    "    dc = DayCounts('BUS/252', calendar='anbima')\n",
    "    T = pd.to_datetime(expiry_date)\n",
    "    return dc.days(t, T)\n",
    "\n",
    "\n",
    "def pu_DI(yield_rate, du):\n",
    "    return 100000 / ((1 + yield_rate) ** (du / 252))\n",
    "\n",
    "\n",
    "def calc_macaulay(du):\n",
    "    return du/252\n",
    "\n",
    "\n",
    "def modified_duration_DI(macaulay, yield_rate):\n",
    "    return macaulay/(1+yield_rate)\n",
    "\n",
    "\n",
    "def convexity_DI(yield_rate, macaulay):\n",
    "    return macaulay*(macaulay+1)/((1+yield_rate)**2)\n"
   ]
  },
  {
   "cell_type": "code",
   "execution_count": 90,
   "metadata": {
    "pycharm": {
     "name": "#%%\n"
    }
   },
   "outputs": [],
   "source": [
    "starting_date = '2021-02-05'\n",
    "\n",
    "DI_yield_prices = [1.902, 1.98, 2.051, 2.19, 2.36, 2.548,\n",
    "                   2.742, 2.895, 3.047, 3.221, 3.42, 3.586,\n",
    "                   3.91, 4.325, 4.71, 4.98, 5.385, 5.49,\n",
    "                   5.72, 5.82, 5.97, 6.11, 6.221, 6.31,\n",
    "                   6.457, 6.547, 6.643, 6.69, 6.837, 6.98,\n",
    "                   7.21, 7.42, 7.603, 7.76, 7.952, 8.091]\n",
    "\n",
    "DI_dates = [\n",
    "    '2021-03-01', '2021-04-01', '2021-05-01', '2021-06-01', '2021-07-01',\n",
    "    '2021-08-01', '2021-09-01', '2021-10-01', '2021-11-01', '2021-12-01',\n",
    "    '2022-01-01', '2022-02-01', '2022-04-01',\n",
    "    '2022-07-01', '2022-10-01', '2023-01-01', '2023-04-01', '2023-07-01',\n",
    "    '2023-10-01', '2024-01-01', '2024-07-01', '2024-10-01', '2025-01-01',\n",
    "    '2025-04-01', '2025-07-01', '2025-10-01',\n",
    "    '2026-01-01', '2026-07-01', '2027-01-01', '2028-04-01', '2029-01-01',\n",
    "    '2030-01-01', '2031-01-01', '2033-01-01', '2035-01-01', '2036-01-01',\n",
    "]\n",
    "\n",
    "DI_df = pd.DataFrame({'price': DI_yield_prices, 'date': DI_dates})\n",
    "DI_df[\"du\"] = DI_df.apply(\n",
    "    lambda row: calc_du(starting_date, row[\"date\"]), axis=1, result_type=\"expand\"\n",
    ")\n",
    "DI_df[\"yield\"] = DI_df[\"price\"]/100\n",
    "DI_df[\"pu\"] = pu_DI(DI_df[\"yield\"], DI_df[\"du\"])\n",
    "DI_df[\"macaulay\"] = calc_macaulay(DI_df[\"du\"])\n",
    "DI_df[\"modified\"] = modified_duration_DI(DI_df[\"macaulay\"], DI_df[\"yield\"])\n",
    "DI_df[\"convexity\"] = convexity_DI(DI_df[\"macaulay\"], DI_df[\"yield\"])"
   ]
  },
  {
   "cell_type": "code",
   "execution_count": 91,
   "metadata": {
    "pycharm": {
     "name": "#%%\n"
    }
   },
   "outputs": [],
   "source": [
    "# Necessary functions to analyze the portfolio\n",
    "\n",
    "# Functions related to LTN\n",
    "# Calculate the yield of a LNT given parameters\n",
    "def rate_ltn(principal, pu, du):\n",
    "    rate = (principal/pu)**(252/du) - 1\n",
    "    return rate\n",
    "\n",
    "# Macaulay duration of a LTN\n",
    "def macaulay_ltn(du):\n",
    "    return du/252\n",
    "\n",
    "def convexity_LTN(du):\n",
    "    return (du/252)*(du/252+1)\n",
    "\n",
    "# Modified duration of LTN\n",
    "def modified_duration(macaulay, rate):\n",
    "    return macaulay/(1+rate)"
   ]
  },
  {
   "cell_type": "code",
   "execution_count": 92,
   "metadata": {
    "pycharm": {
     "name": "#%%\n"
    }
   },
   "outputs": [],
   "source": [
    "# Functions related to NTNF\n",
    "# Payout dates from starting date to expiration of a NTNF\n",
    "def payout_dates_ntnf(reference_date, expiry_date):\n",
    "    dc = DayCounts('BUS/252', calendar='anbima')\n",
    "\n",
    "    t = dc.following(pd.to_datetime(reference_date))\n",
    "    T = dc.following(pd.to_datetime(expiry_date))\n",
    "\n",
    "    d_years = 2 * (T.year - t.year) - 1\n",
    "    # Check what's the first payout day\n",
    "    first_day = pd.to_datetime(f\"{t.year}-01-01\")\n",
    "    second_day = pd.to_datetime(f\"{t.year}-07-01\")\n",
    "    if t != first_day:\n",
    "        if t > second_day:\n",
    "            d_years -= 1\n",
    "            starting_day = pd.to_datetime(f\"{t.year+1}-01-01\")\n",
    "        else:\n",
    "            starting_day = second_day\n",
    "    else:\n",
    "        starting_day = first_day\n",
    "\n",
    "    output = [dc.following(starting_day)]\n",
    "    # Iterate over the years and append business day for payouts\n",
    "    for i in range(0, d_years-1):\n",
    "        if output[i].month == 1:\n",
    "            output.append(\n",
    "                dc.following(pd.to_datetime(f\"{output[i].year}-07-01\"))\n",
    "            )\n",
    "        else:\n",
    "            output.append(\n",
    "                dc.following(pd.to_datetime(f\"{output[i].year+1}-01-01\"))\n",
    "            )\n",
    "    # Add last payout date, expiry\n",
    "    output.append(dc.following(pd.to_datetime(expiry_date)))\n",
    "\n",
    "    return output\n",
    "\n",
    "# Calculate current price of a NTF\n",
    "def pu_ntnf(reference_date, expiry_date, yield_rate, coupon=0.1, face_value=1000):\n",
    "    dc = DayCounts('BUS/252', calendar='anbima')\n",
    "    # Calculate the payout dates\n",
    "    payout_days = payout_dates_ntnf(reference_date, expiry_date)\n",
    "\n",
    "    # First coupon value from reference date\n",
    "    t = dc.following(pd.to_datetime(reference_date))\n",
    "    du = dc.days(t, payout_days[0])\n",
    "    # Constant values: Coupon value and yield rate\n",
    "    c = (1 + coupon)**0.5 - 1\n",
    "    y = (1 + yield_rate)\n",
    "    _pu = c/(y**(du/252))\n",
    "    for i in range(1, len(payout_days)):\n",
    "        # Calculate business days between each payout\n",
    "        du += dc.days(payout_days[i-1], payout_days[i])\n",
    "        # Sums up coupon values\n",
    "        _pu += c/(y**(du/252))\n",
    "\n",
    "    # Last payout of face value\n",
    "    _pu += 1/(y**(du/252))\n",
    "\n",
    "    return face_value*_pu\n",
    "\n",
    "# Calculate the yield of a NTNF\n",
    "def yield_ntnf(reference_date, expiry_date, price, coupon=0.1, face_value=1000, estimate=0.05):\n",
    "    from scipy import optimize\n",
    "    get_yield = lambda yield_rate: pu_ntnf(reference_date, expiry_date, yield_rate) - price\n",
    "    # Use the function above and an estimate of the yield rate to optimize\n",
    "    # the function until we find a good enough value for the yield so that:\n",
    "    # calc_pu(estimate_yield) = price\n",
    "    return optimize.newton(get_yield, estimate)\n",
    "\n",
    "# Calculates present value, modified duration and convexity of a NTNF\n",
    "def ntnf(reference_date, expiry_date, yield_rate, coupon=0.1, face_value=1000):\n",
    "    dc = DayCounts('BUS/252', calendar='anbima')\n",
    "    # Calculate the payout dates\n",
    "    payout_days = payout_dates_ntnf(reference_date, expiry_date)\n",
    "\n",
    "    yield_price = 0\n",
    "    macaulay = 0\n",
    "    convexity = 0\n",
    "\n",
    "    # First coupon value from reference date\n",
    "    t = dc.following(pd.to_datetime(reference_date))\n",
    "    du = dc.days(t, payout_days[0])\n",
    "    # Constant values: Coupon value and yield rate\n",
    "    c = face_value*((1 + coupon) ** 0.5 - 1)\n",
    "    y = (1 + yield_rate)\n",
    "    for i in range(0, len(payout_days)):\n",
    "        # Calculate business days between each payout\n",
    "        du = dc.days(t, payout_days[i])\n",
    "        # Sums up coupon values\n",
    "        cf = c / (y ** (du / 252))\n",
    "        yield_price += cf\n",
    "        macaulay += cf*(du/252)\n",
    "        convexity += cf*(du/252)*(du/252+1)\n",
    "\n",
    "    # Last payout of face value\n",
    "    cf = face_value / (y ** (du / 252))\n",
    "    yield_price += cf\n",
    "\n",
    "    macaulay += cf * (du / 252)\n",
    "    macaulay /= yield_price\n",
    "    md = modified_duration(macaulay, yield_rate)\n",
    "\n",
    "    convexity += cf * (du / 252) * (du / 252 + 1)\n",
    "    convexity /= (yield_price*(1+yield_rate)**2)\n",
    "\n",
    "    return [yield_price, md, convexity]"
   ]
  },
  {
   "cell_type": "code",
   "execution_count": 93,
   "metadata": {
    "pycharm": {
     "name": "#%%\n"
    }
   },
   "outputs": [],
   "source": [
    "# Gets expiration date from description\n",
    "def du_from_desc(reference_date, description):\n",
    "    # BLTN 0 04/01/21\n",
    "    t = pd.to_datetime(reference_date)\n",
    "    date = description.split(\" \")[-1]\n",
    "    T = pd.to_datetime(date)\n",
    "    dc = DayCounts('BUS/252', calendar='anbima')\n",
    "\n",
    "    return dc.days(t, T)\n",
    "\n",
    "# Return the current price, modified duration and convexity of a bond, Shift in bps\n",
    "def analyze(row, shift=0):\n",
    "    if \"LTN\" in row[\"Description\"]:\n",
    "        macaulay = macaulay_ltn(row[\"du\"])\n",
    "        yield_rate = rate_ltn(1000, row[\"Vendor Price\"], row[\"du\"])\n",
    "        yield_rate += shift/10000\n",
    "        md = modified_duration(macaulay, yield_rate)\n",
    "        convexity = convexity_LTN(row[\"du\"])\n",
    "        yield_price = 1000.0/(1+yield_rate)**(row[\"du\"]/252)\n",
    "\n",
    "        return [yield_price, md, convexity]\n",
    "\n",
    "    elif \"NTNF\" in row[\"Description\"]:\n",
    "        expiry_date = row[\"Description\"].split(\" \")[-1]\n",
    "        yield_rate = yield_ntnf(starting_date, expiry_date, row[\"Vendor Price\"])\n",
    "        yield_rate += shift/10000\n",
    "        analyzed = ntnf(starting_date, expiry_date, yield_rate)\n",
    "        return analyzed\n",
    "\n",
    "# Delta of a shift in bps for a bond\n",
    "def delta(price, md, c, dbps):\n",
    "    d = price * (md*(-1/dbps) + (c/2)*((1/dbps)**2))\n",
    "    return d"
   ]
  },
  {
   "cell_type": "code",
   "execution_count": 94,
   "metadata": {
    "pycharm": {
     "name": "#%%\n"
    }
   },
   "outputs": [
    {
     "name": "stdout",
     "output_type": "stream",
     "text": [
      "Valor do portfolio: 169296826.2049501\n",
      "Modified Duration: 1.7554103311691713\n",
      "Convexity: 7.7668715211463795\n"
     ]
    }
   ],
   "source": [
    "# Analyze the portfolio\n",
    "portfolio = pd.read_excel(\"BZRFIRFM Index as of Feb 05 20211.xlsx\")\n",
    "portfolio[\"Weight\"] = portfolio[\"Weight (%)\"]/100\n",
    "portfolio[\"du\"] = portfolio.apply(lambda row: du_from_desc(starting_date, row[\"Description\"]), axis=1)\n",
    "portfolio[[\"Yield Price\", \"Modified Duration\", \"Convexity\"]] = portfolio.apply(analyze, axis=1, result_type=\"expand\")\n",
    "\n",
    "portfolio_price = (portfolio[\"Market Value\"]*portfolio[\"Weight\"]).sum()\n",
    "portfolio_md = (portfolio[\"Modified Duration\"]*portfolio[\"Weight\"]).sum()\n",
    "portfolio_convexity = (portfolio[\"Convexity\"]*portfolio[\"Weight\"]).sum()\n",
    "\n",
    "print(\"Valor do portfolio: \" + str(portfolio_price))\n",
    "print(\"Modified Duration: \" + str(portfolio_md))\n",
    "print(\"Convexity: \" + str(portfolio_convexity))"
   ]
  },
  {
   "cell_type": "code",
   "execution_count": 95,
   "metadata": {
    "pycharm": {
     "name": "#%%\n"
    }
   },
   "outputs": [
    {
     "name": "stdout",
     "output_type": "stream",
     "text": [
      "Delta de 100 bps do porfolio: -2906108.642639626\n"
     ]
    }
   ],
   "source": [
    "dbps = 100\n",
    "delta_portfolio = delta(portfolio_price, portfolio_md, portfolio_convexity, dbps)\n",
    "\n",
    "print(\"Delta de 100 bps do porfolio: \" + str(delta_portfolio))"
   ]
  },
  {
   "cell_type": "code",
   "execution_count": 96,
   "metadata": {
    "pycharm": {
     "name": "#%%\n"
    }
   },
   "outputs": [
    {
     "name": "stdout",
     "output_type": "stream",
     "text": [
      "PU do primeiro DI: 94273.05802412987\n",
      "PU do segundo DI: 82216.24363364592\n",
      "Delta de 100 bps do primeiro DI: -1258.615165222524\n",
      "Delta de 100 bps do segundo DI: -2620.0010493960613\n"
     ]
    }
   ],
   "source": [
    "# Contracts chosen as the expiration date falls \"in the middle\" of the DI curve\n",
    "hedge_1 = DI_df[DI_df[\"date\"] == \"2022-07-01\"]\n",
    "hedge_2 = DI_df[DI_df[\"date\"] == \"2024-07-01\"]\n",
    "print(\"PU do primeiro DI: \" + str(hedge_1[\"pu\"].item()))\n",
    "print(\"PU do segundo DI: \" + str(hedge_2[\"pu\"].item()))\n",
    "\n",
    "delta_hedge_1 = delta(hedge_1[\"pu\"].item(), hedge_1[\"modified\"].item(), hedge_1[\"convexity\"].item(), dbps)\n",
    "delta_hedge_2 = delta(hedge_2[\"pu\"].item(), hedge_2[\"modified\"].item(), hedge_2[\"convexity\"].item(), dbps)\n",
    "print(\"Delta de 100 bps do primeiro DI: \" + str(delta_hedge_1))\n",
    "print(\"Delta de 100 bps do segundo DI: \" + str(delta_hedge_2))"
   ]
  },
  {
   "cell_type": "code",
   "execution_count": 97,
   "metadata": {
    "pycharm": {
     "name": "#%%\n"
    }
   },
   "outputs": [
    {
     "name": "stdout",
     "output_type": "stream",
     "text": [
      "Numero de contratos primeiro DI: 1059.980882056286\n",
      "Numero de contratos segundo DI: 600\n"
     ]
    }
   ],
   "source": [
    "# Fixing number of second hedge contracts\n",
    "N2 = 600\n",
    "\n",
    "N1 = (delta_portfolio - N2*delta_hedge_2)/delta_hedge_1\n",
    "print(\"Numero de contratos primeiro DI: \" + str(N1))\n",
    "print(\"Numero de contratos segundo DI: \" + str(N2))\n",
    "\n",
    "hedge_price = N1*hedge_1[\"pu\"].item() + N2*hedge_2[\"pu\"].item()\n"
   ]
  },
  {
   "cell_type": "markdown",
   "metadata": {},
   "source": [
    "### Exercise 2"
   ]
  },
  {
   "cell_type": "markdown",
   "metadata": {},
   "source": [
    "Os titulos foram escolhidos de forma que as datas de expiração ficassem próximas as datas de expiração do portfolio (ele tem bastante vencimentos em 2022, então um dos contratos DI escolhidos foi o de vencimento em 2022). O outro contrato foi escolhido para ter um vencimento maior, mas não tão longe de forma que não se possa rebalancear devido à liquidez, por isso escolheu-se 2024"
   ]
  },
  {
   "cell_type": "markdown",
   "metadata": {},
   "source": [
    "### Exercise 3"
   ]
  },
  {
   "cell_type": "code",
   "execution_count": 98,
   "metadata": {
    "pycharm": {
     "name": "#%%\n"
    }
   },
   "outputs": [
    {
     "name": "stdout",
     "output_type": "stream",
     "text": [
      "Valor do portfolio depois do shift de 150 bps: 165889259.1169103\n"
     ]
    }
   ],
   "source": [
    "# Calculate apply the yield shift to the market value\n",
    "def pct_diff(row):\n",
    "    pct = row[\"Yield Price\"]/row[\"Vendor Price\"]\n",
    "    market_value = pct*row[\"Market Value\"]\n",
    "    return market_value\n",
    "# Apply a shift to the yield curve\n",
    "shift_bps = 150\n",
    "portfolio_shift = portfolio\n",
    "portfolio_shift[[\"Yield Price\", \"Modified Duration\", \"Convexity\"]] = portfolio.apply(\n",
    "    lambda row: analyze(row, shift_bps), axis=1,result_type=\"expand\"\n",
    ")\n",
    "portfolio_shift[\"Market Value\"] = portfolio_shift.apply(pct_diff, axis=1, result_type=\"expand\")\n",
    "portfolio_shift_price = (portfolio_shift[\"Market Value\"]*portfolio_shift[\"Weight\"]).sum()\n",
    "print(\"Valor do portfolio depois do shift de 150 bps: \" + str(portfolio_shift_price))"
   ]
  },
  {
   "cell_type": "code",
   "execution_count": 99,
   "metadata": {
    "pycharm": {
     "name": "#%%\n"
    }
   },
   "outputs": [
    {
     "name": "stdout",
     "output_type": "stream",
     "text": [
      "Valor do primeiro contrato DI depois do shift de 150 bps: 87402.04359194613\n",
      "Valor do segundo contrato DI depois do shift de 150 bps: 65321.380069116654\n"
     ]
    }
   ],
   "source": [
    "# Shift the hedge\n",
    "shift_hedge_1 = hedge_1.copy(deep=True)\n",
    "shift_hedge_2 = hedge_2.copy(deep=True)\n",
    "\n",
    "shift_hedge_1[\"yield\"] += shift_hedge_1[\"yield\"] + shift_bps/10000\n",
    "shift_hedge_2[\"yield\"] += shift_hedge_2[\"yield\"] + shift_bps/10000\n",
    "shift_hedge_1[\"pu\"] = pu_DI(shift_hedge_1[\"yield\"], shift_hedge_1[\"du\"])\n",
    "shift_hedge_2[\"pu\"] = pu_DI(shift_hedge_2[\"yield\"], shift_hedge_2[\"du\"])\n",
    "\n",
    "print(\"Valor do primeiro contrato DI depois do shift de 150 bps: \" + str(shift_hedge_1[\"pu\"].item()))\n",
    "print(\"Valor do segundo contrato DI depois do shift de 150 bps: \" + str(shift_hedge_2[\"pu\"].item()))"
   ]
  },
  {
   "cell_type": "code",
   "execution_count": 100,
   "metadata": {
    "pycharm": {
     "name": "#%%\n"
    }
   },
   "outputs": [
    {
     "name": "stdout",
     "output_type": "stream",
     "text": [
      "PNL without Hedge: -3407567.0880397856\n",
      "PNL without Hedge %: -2.012776709655855\n",
      "PNL with Hedge: 14012494.989125371\n",
      "PNL with Hedge %: 8.276879905688189\n"
     ]
    }
   ],
   "source": [
    "delta_shift_hedge = -N1*(shift_hedge_1[\"pu\"].item()-hedge_1[\"pu\"].item())\\\n",
    "                    -N2*(shift_hedge_2[\"pu\"].item()-hedge_2[\"pu\"].item())\n",
    "\n",
    "pnl_hedgeless = portfolio_shift_price - portfolio_price\n",
    "pnl_hedgeless_pct = pnl_hedgeless/portfolio_price * 100\n",
    "pnl_hedge = pnl_hedgeless + delta_shift_hedge\n",
    "pnl_hedge_pct = pnl_hedge/portfolio_price * 100\n",
    "\n",
    "print(\"PNL without Hedge: \" + str(pnl_hedgeless))\n",
    "print(\"PNL without Hedge %: \" + str(pnl_hedgeless_pct))\n",
    "print(\"PNL with Hedge: \" + str(pnl_hedge))\n",
    "print(\"PNL with Hedge %: \" + str(pnl_hedge_pct))"
   ]
  },
  {
   "cell_type": "code",
   "execution_count": null,
   "metadata": {},
   "outputs": [],
   "source": []
  }
 ],
 "metadata": {
  "kernelspec": {
   "display_name": "Python 3",
   "language": "python",
   "name": "python3"
  },
  "language_info": {
   "codemirror_mode": {
    "name": "ipython",
    "version": 3
   },
   "file_extension": ".py",
   "mimetype": "text/x-python",
   "name": "python",
   "nbconvert_exporter": "python",
   "pygments_lexer": "ipython3",
   "version": "3.8.3"
  }
 },
 "nbformat": 4,
 "nbformat_minor": 1
}