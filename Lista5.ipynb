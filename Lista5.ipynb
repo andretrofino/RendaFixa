{
 "cells": [
  {
   "cell_type": "markdown",
   "metadata": {},
   "source": [
    "# Lista 5"
   ]
  },
  {
   "cell_type": "markdown",
   "metadata": {},
   "source": [
    "### Exercicio 1"
   ]
  },
  {
   "cell_type": "code",
   "execution_count": 25,
   "metadata": {
    "pycharm": {
     "name": "#%%\n"
    }
   },
   "outputs": [],
   "source": [
    "# Imports\n",
    "import sys\n",
    "\n",
    "from scipy.optimize import minimize\n",
    "\n",
    "sys.path.append(f'../FinanceHub')\n",
    "\n",
    "from calendars import DayCounts\n",
    "import pandas as pd\n",
    "import matplotlib.pyplot as plt\n",
    "import numpy as np\n",
    "import math"
   ]
  },
  {
   "cell_type": "code",
   "execution_count": 26,
   "metadata": {
    "pycharm": {
     "name": "#%%\n"
    }
   },
   "outputs": [],
   "source": [
    "starting_date = '2021-01-29'\n",
    "\n",
    "def calc_du(reference_date, expiry_date):\n",
    "    t = pd.to_datetime(reference_date)\n",
    "    dc = DayCounts('BUS/252', calendar='anbima')\n",
    "    T = pd.to_datetime(expiry_date)\n",
    "    return dc.days(t, T)\n",
    "\n",
    "\n",
    "def interpolate_rate(r1, r2, t1, t2, t, percent=True):\n",
    "    if percent:\n",
    "        r1 = r1 / 100\n",
    "        r2 = r2 / 100\n",
    "    ir1 = t1 * math.log(1 + r1)\n",
    "    ir2 = t2 * math.log(1 + r2)\n",
    "    r = ir1 + (ir2 - ir1) * (t - t1) / (t2 - t1)\n",
    "    r = math.exp(r / t) - 1\n",
    "    if percent:\n",
    "        r = r * 100\n",
    "    return r\n"
   ]
  },
  {
   "cell_type": "code",
   "execution_count": 27,
   "metadata": {
    "pycharm": {
     "name": "#%%\n"
    }
   },
   "outputs": [],
   "source": [
    "# Closing as of 12/03/2021\n",
    "DI_du = [\n",
    "    3, 5, 6, 7, 11, 14, 18, 19, 20, 24, 31, 33, 34, 38, 48, 49, 52, 60, 66, 70, 77, 80, 81,\n",
    "    90, 91, 95, 96, 97, 98, 109, 110, 111, 122, 125, 132, 139, 140, 143, 150, 157, 159,\n",
    "    171, 172, 173, 180, 182, 187, 189, 194, 202, 203, 210, 215, 217, 230, 231, 234, 241,\n",
    "    249, 263, 264, 270, 278, 280, 284, 292, 293, 297\n",
    "]\n",
    "# In percentage\n",
    "DI_rates = [\n",
    "    1.9, 2.21, 2.25, 2.27, 2.3, 2.32, 2.32, 2.33, 2.33, 2.34, 2.38, 2.39, 2.4, 2.41, 2.43,\n",
    "    2.43, 2.43, 2.55, 2.61, 2.66, 2.71, 2.72, 2.73, 2.81, 2.82, 2.84, 2.85, 2.86, 2.87, 2.93,\n",
    "    2.93, 2.94, 3.03, 3.06, 3.11, 3.15, 3.16, 3.17, 3.24, 3.3, 3.32, 3.4, 3.41, 3.42, 3.47,\n",
    "    3.49, 3.52, 3.54, 3.57, 3.62, 3.63, 3.67, 3.69, 3.71, 3.79, 3.8, 3.8, 3.84, 3.88, 3.96, 3.97,\n",
    "    4.01, 4.08, 4.1, 4.12, 4.18, 4.19, 4.21\n",
    "]"
   ]
  },
  {
   "cell_type": "code",
   "execution_count": 28,
   "metadata": {
    "pycharm": {
     "name": "#%%\n"
    }
   },
   "outputs": [],
   "source": [
    "di_curve = pd.read_csv(f'../FinanceHub/finmath/brazilian_bonds/di1_curve_210129.csv')\n",
    "di_curve[\"du\"] = calc_du(starting_date, di_curve[\"Unnamed: 0\"])\n",
    "\n",
    "\n",
    "def interpolate(du, rates, percent):\n",
    "    assert(len(du) == len(rates))\n",
    "    inter_du = []\n",
    "    inter_rates = []\n",
    "\n",
    "    for x in range(len(du)-1):\n",
    "        inter_du.append(du[x])\n",
    "        inter_rates.append(rates[x])\n",
    "\n",
    "        for t in range(du[x]+1, du[x+1]):\n",
    "            inter_du.append(t)\n",
    "            inter_rates.append(interpolate_rate(rates[x], rates[x+1], du[x], du[x+1], t, percent))\n",
    "\n",
    "    inter_du.append(du[len(du)-1])\n",
    "    inter_rates.append(rates[len(rates)-1])\n",
    "    return inter_du, inter_rates"
   ]
  },
  {
   "cell_type": "code",
   "execution_count": 29,
   "metadata": {
    "pycharm": {
     "name": "#%%\n"
    }
   },
   "outputs": [
    {
     "data": {
      "image/png": "[encoded data removed]",
      "text/plain": [
       "<Figure size 432x288 with 1 Axes>"
      ]
     },
     "metadata": {
      "needs_background": "light"
     },
     "output_type": "display_data"
    }
   ],
   "source": [
    "du_offset = calc_du(starting_date, \"2021-03-12\")\n",
    "\n",
    "DI_closing = pd.DataFrame()\n",
    "DI_closing[\"du\"] = DI_du\n",
    "DI_closing[\"rates\"] = DI_rates\n",
    "DI_closing[\"rates\"] = DI_closing[\"rates\"]\n",
    "\n",
    "my_du, my_rates = interpolate(di_curve[\"du\"], di_curve[\"last_price\"], True)\n",
    "my_df = pd.DataFrame()\n",
    "my_df[\"du\"] = my_du[du_offset:DI_du[-1]-3 + du_offset] - du_offset\n",
    "my_df[\"my rates\"] = my_rates[du_offset:DI_du[-1]-3 + du_offset]\n",
    "\n",
    "\n",
    "di_plot = DI_closing.plot(x=\"du\", y=\"rates\")\n",
    "my_plot = my_df.plot(x=\"du\", y=\"my rates\", ax=di_plot)\n",
    "plt.show()\n"
   ]
  },
  {
   "cell_type": "markdown",
   "metadata": {
    "pycharm": {
     "name": "#%%\n"
    }
   },
   "source": [
    "### Exercicio 3"
   ]
  },
  {
   "cell_type": "markdown",
   "metadata": {},
   "source": [
    "Olhando a curva acima, podemos ver que a curva se torna achatada, então é possível fazer um flattner vendendo a taxa de curto prazo e comprando a taxa de longo prazo."
   ]
  },
  {
   "cell_type": "code",
   "execution_count": null,
   "metadata": {},
   "outputs": [],
   "source": []
  }
 ],
 "metadata": {
  "kernelspec": {
   "display_name": "Python 3",
   "language": "python",
   "name": "python3"
  },
  "language_info": {
   "codemirror_mode": {
    "name": "ipython",
    "version": 3
   },
   "file_extension": ".py",
   "mimetype": "text/x-python",
   "name": "python",
   "nbconvert_exporter": "python",
   "pygments_lexer": "ipython3",
   "version": "3.8.3"
  }
 },
 "nbformat": 4,
 "nbformat_minor": 1
}