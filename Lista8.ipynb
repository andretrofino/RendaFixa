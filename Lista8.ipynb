{
 "cells": [
  {
   "cell_type": "code",
   "execution_count": 22,
   "metadata": {
    "collapsed": true
   },
   "outputs": [],
   "source": [
    "sys.path.append(f'../FinanceHub')\n",
    "\n",
    "from calendars import DayCounts\n",
    "import pandas as pd\n",
    "import matplotlib.pyplot as plt\n",
    "import numpy as np\n",
    "import math\n"
   ]
  },
  {
   "cell_type": "code",
   "execution_count": 23,
   "metadata": {
    "pycharm": {
     "name": "#%%\n"
    }
   },
   "outputs": [
    {
     "name": "stdout",
     "output_type": "stream",
     "text": [
      "[8.4834434  5.03487286 4.86367812 4.86381997 4.96750426 5.0189\n",
      " 5.07302402 5.11423638 5.13335246 5.15527812 5.16965248 5.18122697\n",
      " 5.19171934 5.19923385]\n"
     ]
    }
   ],
   "source": [
    "def calc_du(reference_date, expiry_dates):\n",
    "    t = pd.to_datetime(reference_date)\n",
    "    dc = DayCounts('BUS/252', calendar='anbima')\n",
    "    du = []\n",
    "    for date in expiry_dates:\n",
    "        T = pd.to_datetime(date)\n",
    "        du.append(dc.days(t, T))\n",
    "    return du\n",
    "\n",
    "def nelson_siegel_svensson(n, beta: list, lambdas: list):\n",
    "    div1 = n/lambdas[0]\n",
    "    div2 = n/lambdas[1]\n",
    "\n",
    "    exp1 = (1 - math.exp(-div1))/div1\n",
    "    exp2 = (1 - math.exp(-div2))/div2\n",
    "    t2 = beta[1] * exp1\n",
    "    t3 = beta[2] * (exp1 - math.exp(-div1))\n",
    "    t4 = beta[3] * (exp2 - math.exp(-div2))\n",
    "\n",
    "    return beta[0] + t2 + t3 + t4\n",
    "\n",
    "reference_date = '2021-03-17'\n",
    "\n",
    "ipca_betas = [0.0520, -0.0444, -0.3072, -0.0330]\n",
    "ipca_lambdas = [0.165582104, 3.888024883]\n",
    "\n",
    "pre_betas = [0.1045, -0.0786, -0.0745, -0.0325]\n",
    "pre_lambdas = [0.452406804, 4.144218815]\n",
    "\n",
    "NTNB_expiry_dates = [\n",
    "    '2021-05-15', '2022-08-15', '2023-03-15', '2023-05-15', '2024-08-15', '2025-05-15', '2026-08-15', '2028-08-15',\n",
    "    '2030-08-15', '2035-08-15', '2040-08-15', '2045-05-15', '2050-08-15', '2055-05-15'\n",
    "]\n",
    "\n",
    "NTNB_du = calc_du(reference_date, NTNB_expiry_dates)\n",
    "\n",
    "years = [d/252 for d in NTNB_du]\n",
    "\n",
    "pre_rates = 100*np.array([nelson_siegel_svensson(n, pre_betas, pre_lambdas) for n in years])\n",
    "ipca_rates = 100*np.array([nelson_siegel_svensson(n, ipca_betas, ipca_lambdas) for n in years])\n",
    "implied = pre_rates - ipca_rates\n",
    "print(implied)\n"
   ]
  },
  {
   "cell_type": "code",
   "execution_count": 24,
   "metadata": {
    "pycharm": {
     "name": "#%%\n"
    }
   },
   "outputs": [
    {
     "data": {
      "image/png": "[encoded data removed]",
      "text/plain": [
       "<Figure size 432x288 with 1 Axes>"
      ]
     },
     "metadata": {
      "needs_background": "light"
     },
     "output_type": "display_data"
    }
   ],
   "source": [
    "pre_df = pd.DataFrame({'Years': years, 'Prefixed': pre_rates})\n",
    "ipca_df = pd.DataFrame({'Years': years, 'IPCA': ipca_rates})\n",
    "implied_df = pd.DataFrame({'Years': years, 'Implied': implied})\n",
    "\n",
    "pre_plot = pre_df.plot(x=\"Years\", y=\"Prefixed\")\n",
    "ipca_plot = ipca_df.plot(x=\"Years\", y=\"IPCA\", ax=pre_plot)\n",
    "implied_plot = implied_df.plot(x=\"Years\", y=\"Implied\", ax=ipca_plot)\n",
    "plt.show()\n"
   ]
  },
  {
   "cell_type": "code",
   "execution_count": 39,
   "metadata": {
    "pycharm": {
     "name": "#%%\n"
    }
   },
   "outputs": [
    {
     "name": "stdout",
     "output_type": "stream",
     "text": [
      "Implied Inflation for 2022: 5.0348728572998915\n",
      "Implied Inflation for 2023: 4.863749043780812\n",
      "Implied Inflation for 2024: 4.967504259717211\n",
      "Focus for 2022: 3.51\n",
      "Focus for 2023: 3.25\n",
      "Focus for 2024: 3.25\n"
     ]
    }
   ],
   "source": [
    "print(\"Implied Inflation for 2022: \" + str(implied[1]))\n",
    "print(\"Implied Inflation for 2023: \" + str((implied[2] + implied[3])/2))\n",
    "print(\"Implied Inflation for 2024: \" + str(implied[4]))\n",
    "\n",
    "print(\"Focus for 2022: \" + str(3.51))\n",
    "print(\"Focus for 2023: \" + str(3.25))\n",
    "print(\"Focus for 2024: \" + str(3.25))"
   ]
  },
  {
   "cell_type": "markdown",
   "metadata": {
    "pycharm": {
     "name": "#%% md\n"
    }
   },
   "source": [
    "A principal explicação para a diferença é o prêmio de risco no título pré-fixado. Como o rendimento desse título pode\n",
    "variar muito dependendo da inflação real realizada, diferentemente do título IPCA que segue a inflação, logo exige-se\n",
    "um prêmio no título pré-fixado devido à incerteza de ganhos.\n",
    "Além do prêmio de risco há também a diferença de liquidez nos títulos, sendo que o pré-fixado tem um volume maior que\n",
    "os títulos pós-fixados. Os títulos mais líquidos são mais fáceis de serem negociados sem alteração de preço, enquanto\n",
    "que ao negociar um título de menor liquidez será necessário chegar ao um acordo entre as duas partes, podendo haver\n",
    "diferenças no preço original. Assim o título atrelado a IPCA exige um prêmio de risco de liquidez para ser carregado."
   ]
  }
 ],
 "metadata": {
  "kernelspec": {
   "display_name": "Python 3",
   "language": "python",
   "name": "python3"
  },
  "language_info": {
   "codemirror_mode": {
    "name": "ipython",
    "version": 3
   },
   "file_extension": ".py",
   "mimetype": "text/x-python",
   "name": "python",
   "nbconvert_exporter": "python",
   "pygments_lexer": "ipython3",
   "version": "3.8.3"
  }
 },
 "nbformat": 4,
 "nbformat_minor": 1
}